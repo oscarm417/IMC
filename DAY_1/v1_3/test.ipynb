{
 "cells": [
  {
   "cell_type": "code",
   "execution_count": 133,
   "metadata": {},
   "outputs": [],
   "source": [
    "from collections import deque\n",
    "import math as m\n",
    "\n",
    "class portfolio:\n",
    "    def __init__(self):\n",
    "        self.inventory = 0\n",
    "        self.previous_trades = set()\n",
    "        self.open_trades = deque()\n",
    "\n",
    "    def convertToNumber (self,s):\n",
    "        return int.from_bytes(s.encode(), 'little')\n",
    "\n",
    "    def convertFromNumber (self,n):\n",
    "        return n.to_bytes(m.ceil(n.bit_length() / 8), 'little').decode()\n",
    "    \n",
    "    def add_trade(self,list_of_trades):\n",
    "        for trade in list_of_trades:\n",
    "            if trade.timestamp in [2300,23100]:\n",
    "                print(list_of_trades)\n",
    "            trade.quantity = trade.quantity if (trade.buyer ==\"SUBMISSION\") else -trade.quantity\n",
    "            unique_trade_number = self.convertToNumber(str(trade))\n",
    "            if unique_trade_number not in self.previous_trades:\n",
    "                self.previous_trades.add(unique_trade_number)\n",
    "                if self.inventory == 0: \n",
    "                    #if inventory zero just add the trade \n",
    "                    self.open_trades.append(trade)\n",
    "                    self.inventory += trade.quantity\n",
    "                else:\n",
    "                    #if inventory in direction of trade\n",
    "                    if (trade.quantity > 0 and self.inventory > 0) or (trade.quantity < 0 and self.inventory < 0):\n",
    "                        self.open_trades.append(trade)\n",
    "                        self.inventory += trade.quantity\n",
    "                    else: #if inventory in opposit direction trade\n",
    "                        self.inventory += trade.quantity\n",
    "                        while trade.quantity != 0 and  len(self.open_trades) != 0 :\n",
    "                            currTrade = self.open_trades.popleft()\n",
    "                            if abs(currTrade.quantity) > abs(trade.quantity):\n",
    "                                currTrade.quantity  = currTrade.quantity   + trade.quantity\n",
    "                                trade.quantity = 0 \n",
    "                                self.open_trades.appendleft(currTrade)\n",
    "                            elif abs(currTrade.quantity) < abs(trade.quantity):\n",
    "                                trade.quantity += currTrade.quantity\n",
    "                            elif abs(currTrade.quantity) == abs(trade.quantity):\n",
    "                                trade.quantity = 0\n",
    "                        if trade.quantity > 0:\n",
    "                            self.open_trades.append(trade)\n",
    "                \n",
    "        \n",
    "    def update_inventory(self):\n",
    "        if len(self.open_trades) > 0:\n",
    "            self.inventory = sum([i.quantity for i in self.open_trades])\n",
    "\n",
    "    def get_average_holding_price(self):\n",
    "        if self.inventory != 0 :\n",
    "            avg_price = sum([(trade.quantity/self.inventory)*trade.price for trade in self.open_trades ])\n",
    "            return avg_price\n",
    "        else:\n",
    "            return \"No Positions\"\n",
    "    \n",
    "    def __str__(self) -> str:\n",
    "        return f\"inventory: {self.inventory}\\nAverage Holding Price {str(self.get_average_holding_price())}\\nCurrent Trades: {[str(i)for i in self.open_trades]}\"\n",
    "    def __repr__(self) -> str:\n",
    "        return f\"inventory: {self.inventory}\\nAverage Holding Price {str(self.get_average_holding_price())}\\nCurrent Trades: {[str(i)for i in self.open_trades]}\"\n",
    "\n",
    "\n",
    "\n",
    "\n",
    "    "
   ]
  },
  {
   "cell_type": "code",
   "execution_count": 134,
   "metadata": {},
   "outputs": [],
   "source": [
    "port = portfolio()"
   ]
  },
  {
   "cell_type": "code",
   "execution_count": 135,
   "metadata": {},
   "outputs": [],
   "source": [
    "a = Trade('bla',price = 5,quantity = 4,buyer = 'SUBMISSION',seller = '', timestamp=900)\n",
    "b = Trade('bla',price = 2,quantity = 4,buyer = '',seller = 'SUBMISSION', timestamp=1000)\n",
    "c =  Trade('bla',price = 2,quantity = 10,buyer = '',seller = 'SUBMISSION', timestamp=1000)"
   ]
  },
  {
   "cell_type": "code",
   "execution_count": 136,
   "metadata": {},
   "outputs": [],
   "source": [
    "port.add_trade([a])"
   ]
  },
  {
   "cell_type": "code",
   "execution_count": 137,
   "metadata": {},
   "outputs": [
    {
     "data": {
      "text/plain": [
       "inventory: 4\n",
       "Average Holding Price 5.0\n",
       "Current Trades: ['(bla, SUBMISSION << , 5, 4, 900)']"
      ]
     },
     "execution_count": 137,
     "metadata": {},
     "output_type": "execute_result"
    }
   ],
   "source": [
    "port"
   ]
  },
  {
   "cell_type": "code",
   "execution_count": 138,
   "metadata": {},
   "outputs": [],
   "source": [
    "port.add_trade([b,c])"
   ]
  },
  {
   "cell_type": "code",
   "execution_count": 139,
   "metadata": {},
   "outputs": [
    {
     "data": {
      "text/plain": [
       "inventory: -10\n",
       "Average Holding Price 2.0\n",
       "Current Trades: ['(bla,  << SUBMISSION, 2, -10, 1000)']"
      ]
     },
     "execution_count": 139,
     "metadata": {},
     "output_type": "execute_result"
    }
   ],
   "source": [
    "port"
   ]
  },
  {
   "cell_type": "code",
   "execution_count": 130,
   "metadata": {},
   "outputs": [],
   "source": [
    "port.add_trade([c])"
   ]
  },
  {
   "cell_type": "code",
   "execution_count": 140,
   "metadata": {},
   "outputs": [
    {
     "data": {
      "text/plain": [
       "inventory: -10\n",
       "Average Holding Price 2.0\n",
       "Current Trades: ['(bla,  << SUBMISSION, 2, -10, 1000)']"
      ]
     },
     "execution_count": 140,
     "metadata": {},
     "output_type": "execute_result"
    }
   ],
   "source": [
    "port"
   ]
  },
  {
   "cell_type": "code",
   "execution_count": 141,
   "metadata": {},
   "outputs": [
    {
     "data": {
      "text/plain": [
       "'(bla,  << SUBMISSION, 2, -10, 1000)'"
      ]
     },
     "execution_count": 141,
     "metadata": {},
     "output_type": "execute_result"
    }
   ],
   "source": [
    "str(c)"
   ]
  },
  {
   "cell_type": "code",
   "execution_count": null,
   "metadata": {},
   "outputs": [],
   "source": [
    "str()"
   ]
  },
  {
   "cell_type": "code",
   "execution_count": null,
   "metadata": {},
   "outputs": [],
   "source": []
  },
  {
   "cell_type": "code",
   "execution_count": 3,
   "metadata": {},
   "outputs": [],
   "source": [
    "Symbol = str\n",
    "UserId = str\n",
    "\n",
    "class Trade:\n",
    "    def __init__(self, symbol: Symbol, price: int, quantity: int, buyer: UserId = None, seller: UserId = None, timestamp: int = 0) -> None:\n",
    "        self.symbol = symbol\n",
    "        self.price: int = price\n",
    "        self.quantity: int = quantity\n",
    "        self.buyer = buyer\n",
    "        self.seller = seller\n",
    "        self.timestamp = timestamp\n",
    "\n",
    "    def __str__(self) -> str:\n",
    "        return \"(\" + self.symbol + \", \" + self.buyer + \" << \" + self.seller + \", \" + str(self.price) + \", \" + str(self.quantity) + \", \" + str(self.timestamp) + \")\"\n",
    "\n",
    "    def __repr__(self) -> str:\n",
    "        return \"(\" + self.symbol + \", \" + self.buyer + \" << \" + self.seller + \", \" + str(self.price) + \", \" + str(self.quantity) + \", \" + str(self.timestamp) + \")\" + self.symbol + \", \" + self.buyer + \" << \" + self.seller + \", \" + str(self.price) + \", \" + str(self.quantity) + \")\""
   ]
  },
  {
   "cell_type": "code",
   "execution_count": 34,
   "metadata": {},
   "outputs": [],
   "source": [
    "a = Trade('bla',price = 5,quantity = 10,buyer = 'SUBMISSION',seller = '', timestamp=5)\n",
    "b = Trade('bla',price = 2,quantity = 10,buyer = 'SUBMISSION',seller = '', timestamp=5)\n",
    "c = Trade('bla',price = 2,quantity = 10,buyer = 'SUBMISSION',seller = '', timestamp=5)"
   ]
  },
  {
   "cell_type": "code",
   "execution_count": 44,
   "metadata": {},
   "outputs": [],
   "source": [
    "port = set()\n"
   ]
  },
  {
   "cell_type": "code",
   "execution_count": 45,
   "metadata": {},
   "outputs": [],
   "source": [
    "port.add(str(a))\n",
    "port.add(str(b))"
   ]
  },
  {
   "cell_type": "code",
   "execution_count": 46,
   "metadata": {},
   "outputs": [
    {
     "data": {
      "text/plain": [
       "{'(bla, SUBMISSION << , 2, 10, 5)', '(bla, SUBMISSION << , 5, 10, 5)'}"
      ]
     },
     "execution_count": 46,
     "metadata": {},
     "output_type": "execute_result"
    }
   ],
   "source": [
    "port"
   ]
  },
  {
   "cell_type": "code",
   "execution_count": 47,
   "metadata": {},
   "outputs": [],
   "source": [
    "port.add(str(c))"
   ]
  },
  {
   "cell_type": "code",
   "execution_count": 48,
   "metadata": {},
   "outputs": [
    {
     "data": {
      "text/plain": [
       "{'(bla, SUBMISSION << , 2, 10, 5)', '(bla, SUBMISSION << , 5, 10, 5)'}"
      ]
     },
     "execution_count": 48,
     "metadata": {},
     "output_type": "execute_result"
    }
   ],
   "source": [
    "port"
   ]
  },
  {
   "cell_type": "code",
   "execution_count": 51,
   "metadata": {},
   "outputs": [],
   "source": [
    "# prices = {\n",
    "#     'pizza': { 'pizza': 1, 'wasabi': 0.5, 'snowball': 1.45, 'shells': 0.75 },\n",
    "#     'wasabi': { 'pizza': 1.95, 'wasabi': 1, 'snowball': 3.1, 'shells': 1.49 },\n",
    "#     'snowball': { 'pizza': 0.67, 'wasabi': 0.31, 'snowball': 1, 'shells': 0.48 },\n",
    "#     'shells': { 'pizza': 1.34, 'wasabi': 0.64, 'snowball': 1.98, 'shells': 1 }\n",
    "# }\n",
    "\n",
    "# def get_max_profit(matrix):\n",
    "#     R = len(matrix[0])\n",
    "\n",
    "# import itertools\n",
    "\n",
    "# max_score = 1\n",
    "# for path in itertools.product(['pizza', 'wasabi', 'snowball', 'shells'], repeat=4):\n",
    "#     score = 1\n",
    "#     score *= prices['shells'][path[0]]\n",
    "#     score *= prices[path[0]][path[1]]\n",
    "#     score *= prices[path[1]][path[2]]\n",
    "#     score *= prices[path[2]][path[3]]\n",
    "#     score *= prices[path[3]]['shells']\n",
    "\n",
    "#     if score >= max_score:\n",
    "#         print(path, score)\n",
    "#         max_score = score"
   ]
  },
  {
   "cell_type": "code",
   "execution_count": null,
   "metadata": {},
   "outputs": [],
   "source": []
  },
  {
   "cell_type": "code",
   "execution_count": null,
   "metadata": {},
   "outputs": [],
   "source": []
  },
  {
   "cell_type": "code",
   "execution_count": null,
   "metadata": {},
   "outputs": [],
   "source": []
  },
  {
   "cell_type": "code",
   "execution_count": null,
   "metadata": {},
   "outputs": [],
   "source": []
  },
  {
   "cell_type": "code",
   "execution_count": null,
   "metadata": {},
   "outputs": [],
   "source": []
  },
  {
   "cell_type": "code",
   "execution_count": null,
   "metadata": {},
   "outputs": [],
   "source": []
  },
  {
   "cell_type": "code",
   "execution_count": null,
   "metadata": {},
   "outputs": [],
   "source": []
  }
 ],
 "metadata": {
  "kernelspec": {
   "display_name": "master",
   "language": "python",
   "name": "python3"
  },
  "language_info": {
   "codemirror_mode": {
    "name": "ipython",
    "version": 3
   },
   "file_extension": ".py",
   "mimetype": "text/x-python",
   "name": "python",
   "nbconvert_exporter": "python",
   "pygments_lexer": "ipython3",
   "version": "3.8.11"
  },
  "orig_nbformat": 4
 },
 "nbformat": 4,
 "nbformat_minor": 2
}
