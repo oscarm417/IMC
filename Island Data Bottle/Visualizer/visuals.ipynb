{
 "cells": [
  {
   "cell_type": "code",
   "execution_count": 49,
   "metadata": {},
   "outputs": [
    {
     "name": "stdout",
     "output_type": "stream",
     "text": [
      "Done\n"
     ]
    }
   ],
   "source": [
    "import pandas as pd\n",
    "import matplotlib.pyplot as plt \n",
    "\n",
    "trade_data = pd.read_csv('../COMBINED/all_trades_combined.csv', delimiter=';').fillna(0)\n",
    "orderbook_data = pd.read_csv('../COMBINED/all_prices_combined.csv', delimiter=';').fillna(0)\n",
    "trade_data_pearls = pd.DataFrame(columns=trade_data.columns)\n",
    "trade_data_bananas = pd.DataFrame(columns=trade_data.columns)\n",
    "orderbook_data_pearls = pd.DataFrame(columns=orderbook_data.columns)\n",
    "orderbook_data_bananas = pd.DataFrame(columns=orderbook_data.columns)\n",
    "\n",
    "\n",
    "\n",
    "for idx, row in trade_data.iterrows():              # This is taking forever lmao, thank god you only have to run this once\n",
    "    if row['symbol'] == 'PEARLS':\n",
    "        trade_data_pearls.loc[idx] = row\n",
    "    if row['symbol'] == 'BANANAS':\n",
    "        trade_data_bananas.loc[idx] = row\n",
    "\n",
    "for idx, row in orderbook_data.iterrows():\n",
    "    if row['product'] == 'PEARLS':\n",
    "        orderbook_data_pearls.loc[idx] = row\n",
    "    if row['product'] == 'BANANAS':\n",
    "        orderbook_data_bananas.loc[idx] = row\n",
    "\n",
    "trade_data_pearls = trade_data_pearls.reset_index()\n",
    "trade_data_bananas = trade_data_bananas.reset_index()\n",
    "orderbook_data_pearls = orderbook_data_pearls.reset_index()\n",
    "orderbook_data_bananas = orderbook_data_bananas.reset_index()\n",
    "\n",
    "\n",
    "trade_data_pearls = trade_data_pearls.drop(['symbol', 'index'], axis=1)\n",
    "trade_data_bananas = trade_data_bananas.drop(['symbol', 'index'], axis=1)\n",
    "orderbook_data_pearls = orderbook_data_pearls.drop(['product', 'index'], axis=1)\n",
    "orderbook_data_bananas = orderbook_data_bananas.drop(['product', 'index'], axis=1)\n",
    "\n",
    "orderbook_data_pearls['timestamp'] = ((orderbook_data_pearls['timestamp'] / 100) + 1) + ((orderbook_data_pearls['day'] + 2) * 10000)\n",
    "trade_data_pearls['timestamp'] = ((trade_data_pearls['timestamp'] / 100) + 1) + ((trade_data_pearls['day'] + 2) * 10000)\n",
    "\n",
    "orderbook_data_bananas['timestamp'] = ((orderbook_data_bananas['timestamp'] / 100) + 1) + ((orderbook_data_bananas['day'] + 2) * 10000)\n",
    "trade_data_bananas['timestamp'] = ((trade_data_bananas['timestamp'] / 100) + 1) + ((trade_data_bananas['day'] + 2) * 10000)\n",
    "\n",
    "trade_data_pearls = trade_data_pearls.groupby(['timestamp'], as_index=False).agg({'price': 'mean', 'quantity': 'sum'})\n",
    "trade_data_bananas = trade_data_bananas.groupby(['timestamp'], as_index=False).agg({'price': 'mean', 'quantity': 'sum'})\n",
    "\n",
    "\n",
    "print(\"Done\")"
   ]
  },
  {
   "cell_type": "code",
   "execution_count": 50,
   "metadata": {},
   "outputs": [
    {
     "name": "stdout",
     "output_type": "stream",
     "text": [
      "      timestamp   price  quantity\n",
      "0           1.0  5003.0         1\n",
      "1          12.0  4998.0         1\n",
      "2          14.0  5000.0         7\n",
      "3          15.0  4997.0        10\n",
      "4          16.0  5004.0         1\n",
      "...         ...     ...       ...\n",
      "7529    29971.0  4870.0        13\n",
      "7530    29972.0  4875.0         1\n",
      "7531    29989.0  4870.0         1\n",
      "7532    29994.0  4875.0        17\n",
      "7533    29996.0  4869.0         2\n",
      "\n",
      "[7534 rows x 3 columns]\n"
     ]
    }
   ],
   "source": [
    "# PEARL VISUALIZER"
   ]
  },
  {
   "cell_type": "code",
   "execution_count": 24,
   "metadata": {},
   "outputs": [],
   "source": [
    "# BANANA VISUALIZER"
   ]
  }
 ],
 "metadata": {
  "kernelspec": {
   "display_name": "Python 3",
   "language": "python",
   "name": "python3"
  },
  "language_info": {
   "codemirror_mode": {
    "name": "ipython",
    "version": 3
   },
   "file_extension": ".py",
   "mimetype": "text/x-python",
   "name": "python",
   "nbconvert_exporter": "python",
   "pygments_lexer": "ipython3",
   "version": "3.9.6"
  },
  "orig_nbformat": 4
 },
 "nbformat": 4,
 "nbformat_minor": 2
}
